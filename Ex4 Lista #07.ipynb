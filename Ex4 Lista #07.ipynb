{
 "cells": [
  {
   "cell_type": "code",
   "execution_count": 8,
   "metadata": {},
   "outputs": [],
   "source": [
    "# Import all necessary libraries\n",
    "from sklearn.datasets import make_moons\n",
    "from sklearn.metrics import accuracy_score\n",
    "from sklearn.model_selection import train_test_split\n",
    "from sklearn.ensemble import RandomForestClassifier\n",
    "from sklearn.tree import DecisionTreeClassifier\n",
    "from sklearn.ensemble import RandomForestClassifier,AdaBoostClassifier,GradientBoostingClassifier# Step1: Create data set\n",
    "from sklearn import tree\n",
    "import matplotlib.pyplot as plt\n",
    "import numpy as np\n",
    "import seaborn as sns\n",
    "from sklearn.tree import plot_tree\n",
    "from sklearn.ensemble import BaggingClassifier\n",
    "from sklearn.metrics import confusion_matrix, accuracy_score, roc_curve, auc, classification_report\n",
    "from sklearn.metrics import plot_confusion_matrix\n",
    "from sklearn.model_selection import GridSearchCV\n",
    "from scipy.special import expit\n",
    "from sklearn.metrics import classification_report\n",
    "from sklearn import datasets  \n",
    "from sklearn.metrics import accuracy_score \n",
    "from IPython.display import Image  \n",
    "from sklearn.externals.six import StringIO  \n",
    "from sklearn.model_selection import ShuffleSplit\n",
    "from sklearn.base import clone\n",
    "from scipy.stats import mode"
   ]
  },
  {
   "cell_type": "code",
   "execution_count": 9,
   "metadata": {},
   "outputs": [],
   "source": [
    "# Define the number of examples.\n",
    "N = 1000\n",
    "# gerar conjunto de Luas \n",
    "x,y =  make_moons(n_samples=10000, noise=0.4, random_state=42)"
   ]
  },
  {
   "cell_type": "code",
   "execution_count": 10,
   "metadata": {},
   "outputs": [],
   "source": [
    "# conjunto de treinamento de teste\n",
    "X_train, X_test, y_train, y_test = train_test_split(x, y, test_size=0.25, random_state=42)"
   ]
  },
  {
   "cell_type": "code",
   "execution_count": 11,
   "metadata": {},
   "outputs": [
    {
     "name": "stdout",
     "output_type": "stream",
     "text": [
      "Fitting 3 folds for each of 294 candidates, totalling 882 fits\n"
     ]
    },
    {
     "name": "stderr",
     "output_type": "stream",
     "text": [
      "[Parallel(n_jobs=-1)]: Using backend LokyBackend with 4 concurrent workers.\n",
      "[Parallel(n_jobs=-1)]: Done  88 tasks      | elapsed:    1.4s\n",
      "[Parallel(n_jobs=-1)]: Done 882 out of 882 | elapsed:    3.9s finished\n"
     ]
    },
    {
     "data": {
      "text/plain": [
       "GridSearchCV(cv=3, error_score=nan,\n",
       "             estimator=DecisionTreeClassifier(ccp_alpha=0.0, class_weight=None,\n",
       "                                              criterion='gini', max_depth=None,\n",
       "                                              max_features=None,\n",
       "                                              max_leaf_nodes=None,\n",
       "                                              min_impurity_decrease=0.0,\n",
       "                                              min_impurity_split=None,\n",
       "                                              min_samples_leaf=1,\n",
       "                                              min_samples_split=2,\n",
       "                                              min_weight_fraction_leaf=0.0,\n",
       "                                              presort='deprecated',\n",
       "                                              random_state=42,\n",
       "                                              splitter='best'),\n",
       "             iid='deprecated', n_jobs=-1,\n",
       "             param_grid={'max_leaf_nodes': [2, 3, 4, 5, 6, 7, 8, 9, 10, 11, 12,\n",
       "                                            13, 14, 15, 16, 17, 18, 19, 20, 21,\n",
       "                                            22, 23, 24, 25, 26, 27, 28, 29, 30,\n",
       "                                            31, ...],\n",
       "                         'min_samples_split': [2, 3, 4]},\n",
       "             pre_dispatch='2*n_jobs', refit=True, return_train_score=False,\n",
       "             scoring=None, verbose=1)"
      ]
     },
     "execution_count": 11,
     "metadata": {},
     "output_type": "execute_result"
    }
   ],
   "source": [
    "# Use o Grid Search com validação cruzada (tente varios valores para max_leaf_node)\n",
    "\n",
    "params = {'max_leaf_nodes': list(range(2, 100)), 'min_samples_split': [2, 3, 4]}\n",
    "grid_search_cv = GridSearchCV(DecisionTreeClassifier(random_state=42), params, n_jobs=-1, verbose=1, cv=3)\n",
    "grid_search_cv.fit(X_train, y_train)"
   ]
  },
  {
   "cell_type": "code",
   "execution_count": 12,
   "metadata": {},
   "outputs": [
    {
     "name": "stdout",
     "output_type": "stream",
     "text": [
      "1000\n",
      "1000\n",
      "[0.9645406  1.00563146] [0.9645406  1.00563146]\n"
     ]
    }
   ],
   "source": [
    "n_trees = 1000\n",
    "n_instances = 100\n",
    "\n",
    "mini_sets = []\n",
    "mini_sets2=[]\n",
    "\n",
    "rs = ShuffleSplit(n_splits=n_trees, test_size=len(X_train) - n_instances, random_state=42)\n",
    "#USAR O PARAMETRO train_size TAMBEM SERVE E DA O RESULTADO IDENTICO \n",
    "\n",
    "rs2 = ShuffleSplit(n_splits=n_trees, train_size=n_instances,random_state=42) #tambem serve\n",
    "\n",
    "for mini_train_index, mini_test_index in rs.split(X_train):\n",
    "    #print(\"TRAIN size:\", len(mini_train_index), \"TEST size:\", len(mini_test_index) )\n",
    "    X_mini_train = X_train[mini_train_index]\n",
    "    y_mini_train = y_train[mini_train_index]\n",
    "    mini_sets.append((X_mini_train, y_mini_train))\n",
    "\n",
    "for mini_train_index, mini_test_index in rs2.split(X_train):\n",
    "    #print(\"TRAIN size:\", len(mini_train_index), \"TEST size:\", len(mini_test_index) )\n",
    "    X_mini_train2 = X_train[mini_train_index]\n",
    "    y_mini_train2 = y_train[mini_train_index]\n",
    "    mini_sets2.append((X_mini_train2, y_mini_train2))\n",
    "# As \"n_trees\" amostras de treinamento estão em \"mini_sets\".\n",
    "print(len(mini_sets))\n",
    "print(len(mini_sets2))\n",
    "print(mini_sets[0][0][0],mini_sets2[0][0][0])\n",
    "#são identicos"
   ]
  },
  {
   "cell_type": "code",
   "execution_count": 13,
   "metadata": {},
   "outputs": [
    {
     "data": {
      "text/plain": [
       "0.7950088000000001"
      ]
     },
     "execution_count": 13,
     "metadata": {},
     "output_type": "execute_result"
    }
   ],
   "source": [
    "# copiando a melhor configuração da tree para todas as \"n_trees\" trees. \n",
    "forest = [clone(grid_search_cv.best_estimator_) for _ in range(n_trees)]\n",
    "\n",
    "accuracy_scores = []\n",
    "for tree, (X_mini_train, y_mini_train) in zip(forest, mini_sets):\n",
    "    # para cada conjunto de treinamento (mini_train), treinamos as nossas trees\n",
    "    tree.fit(X_mini_train, y_mini_train)\n",
    "    # fazemos a predição no conjunto de teste\n",
    "    y_pred = tree.predict(X_test)\n",
    "    # e calculamos a acurácia de cada predição\n",
    "    accuracy_scores.append(accuracy_score(y_test, y_pred))\n",
    "# média das acurácias\n",
    "np.mean(accuracy_scores)"
   ]
  },
  {
   "cell_type": "code",
   "execution_count": 14,
   "metadata": {},
   "outputs": [
    {
     "name": "stdout",
     "output_type": "stream",
     "text": [
      "0.85 0.6972\n"
     ]
    }
   ],
   "source": [
    "print(np.max(accuracy_scores),np.min(accuracy_scores))"
   ]
  },
  {
   "cell_type": "code",
   "execution_count": 15,
   "metadata": {},
   "outputs": [],
   "source": [
    "#dou de input a amostra de teste e a \"floresta\" já treinada\n",
    "\n",
    "def MyClassifierRandomForest(X_test,forest):\n",
    "    n_trees = len(forest)\n",
    "    Y_pred = np.empty([n_trees, len(X_test)], dtype=np.uint8)\n",
    "    for tree_index, tree in enumerate(forest):\n",
    "        Y_pred[tree_index] = tree.predict(X_test)\n",
    "    \n",
    "    y_pred_majority_votes, n_votes = mode(Y_pred, axis=0)\n",
    "    n_voted = n_votes.reshape([-1])\n",
    "    y_pred_voted = y_pred_majority_votes.reshape([-1])\n",
    "    return n_voted,y_pred_voted,Y_pred"
   ]
  },
  {
   "cell_type": "code",
   "execution_count": 16,
   "metadata": {},
   "outputs": [
    {
     "name": "stdout",
     "output_type": "stream",
     "text": [
      "0.8656\n"
     ]
    }
   ],
   "source": [
    "n_voted,y_pred_voted,Y_pred = MyClassifierRandomForest(X_test,forest )\n",
    "print(accuracy_score(y_test, y_pred_voted))"
   ]
  },
  {
   "cell_type": "code",
   "execution_count": 17,
   "metadata": {},
   "outputs": [
    {
     "name": "stdout",
     "output_type": "stream",
     "text": [
      "0.8656\n",
      "336\n",
      "0.8656\n",
      "Posição do experimento classificado errado: [-0.33285914  0.49147429]\n"
     ]
    },
    {
     "data": {
      "image/png": "[encoded data removed]",
      "text/plain": [
       "<Figure size 432x288 with 1 Axes>"
      ]
     },
     "metadata": {
      "needs_background": "light"
     },
     "output_type": "display_data"
    }
   ],
   "source": [
    "n_voted,y_pred_voted,Y_pred = MyClassifierRandomForest(X_test,forest )\n",
    "print(accuracy_score(y_test, y_pred_voted))\n",
    "\n",
    "#Os 3 histogramas a continuação mostram a proporção de \"votos\" para as instancias/experimentos [0], [-1] (o ultimo), o o decimo da lista dos \"errados\"\n",
    "\n",
    "plt.hist(Y_pred[:,0],bins=10,label=\"Original= {:}  Pred= {:} votos= {:d}\".format(y_test[0],y_pred_voted[0],int(n_voted[0])))\n",
    "\n",
    "plt.hist(Y_pred[:,-1],bins=20,label=\"Original= {:} Pred= {:} votos= {:d}\".format(y_test[-1],y_pred_voted[-1],int(n_voted[-1])))\n",
    "\n",
    "w=np.where(y_test!=y_pred_voted) #selecionar as instancias onde o random forest escolheu errado\n",
    "print(len(w[0]))\n",
    "print(1-len(w[0])/len(y_test)) # checar que é o mesmo valor que o accuracy_score\n",
    "ind10 = w[0][10]\n",
    "plt.hist(Y_pred[:,ind10],bins=30,label=\"Original= {:} Pred= {:} votos= {:d}\".format(y_test[ind10],y_pred_voted[w[0][10]],int(n_voted[ind10])))\n",
    "plt.title(\"Histograma de votos para 3 experimentos\")\n",
    "plt.legend(loc=\"upper center\")\n",
    "\n",
    "print(\"Posição do experimento classificado errado:\",X_test[ind10])"
   ]
  },
  {
   "cell_type": "code",
   "execution_count": null,
   "metadata": {},
   "outputs": [],
   "source": []
  }
 ],
 "metadata": {
  "kernelspec": {
   "display_name": "Python 3",
   "language": "python",
   "name": "python3"
  },
  "language_info": {
   "codemirror_mode": {
    "name": "ipython",
    "version": 3
   },
   "file_extension": ".py",
   "mimetype": "text/x-python",
   "name": "python",
   "nbconvert_exporter": "python",
   "pygments_lexer": "ipython3",
   "version": "3.7.6"
  }
 },
 "nbformat": 4,
 "nbformat_minor": 4
}
